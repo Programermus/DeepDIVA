{
 "cells": [
  {
   "cell_type": "code",
   "execution_count": 22,
   "metadata": {},
   "outputs": [],
   "source": [
    "import os\n",
    "import torch\n",
    "import numpy as np\n",
    "import torch.nn as nn\n",
    "import torch.optim as optim\n",
    "import torch.nn.functional as F\n",
    "\n",
    "from torch.utils.data import TensorDataset, DataLoader, Dataset\n",
    "\n",
    "from utils.util import *"
   ]
  },
  {
   "cell_type": "code",
   "execution_count": 2,
   "metadata": {},
   "outputs": [],
   "source": [
    "DATA_PATH = '/home/ralleking/Code/Python/Datasets/meastro'\n",
    "DEVICE = torch.device(\"cuda\" if torch.cuda.is_available() else \"cpu\")"
   ]
  },
  {
   "cell_type": "markdown",
   "metadata": {},
   "source": [
    "## pre-processing"
   ]
  },
  {
   "cell_type": "code",
   "execution_count": 3,
   "metadata": {},
   "outputs": [],
   "source": [
    "folds = read_txt_files(DATA_PATH)"
   ]
  },
  {
   "cell_type": "code",
   "execution_count": 156,
   "metadata": {},
   "outputs": [],
   "source": [
    "train = np.array(folds[2])\n",
    "train_labels = np.array(folds[3])\n",
    "\n",
    "#trying to predict only next note, fix column order\n",
    "train_labels = train_labels[:,:1]\n",
    "train = np.transpose(train, (0,2,1))\n",
    "\n",
    "train_dataset = TensorDataset(torch.from_numpy(train).float().to(DEVICE), torch.from_numpy(train_labels).float().to(DEVICE))"
   ]
  },
  {
   "cell_type": "markdown",
   "metadata": {},
   "source": [
    "## model\n",
    "### predicts only the next timestep, based on 15x100 input size"
   ]
  },
  {
   "cell_type": "code",
   "execution_count": 158,
   "metadata": {},
   "outputs": [],
   "source": [
    "class Baseline(nn.Module):\n",
    "    \"\"\"\n",
    "    Simple baseline lstm model\n",
    "    \"\"\"\n",
    "\n",
    "    def __init__(self, time_steps, hidden_dim, num_classes):\n",
    "\n",
    "        super(Baseline, self).__init__()\n",
    "        self.hidden_dim = hidden_dim\n",
    "\n",
    "        #lstm layer\n",
    "        self.lstm = nn.LSTM(time_steps, hidden_dim)\n",
    "\n",
    "        #output layer\n",
    "        self.linear = nn.Linear(hidden_dim, num_classes)\n",
    "\n",
    "        #dropout\n",
    "        self.do = nn.Dropout(0.6)\n",
    "\n",
    "    def forward(self, input):\n",
    "        lstm_out, _ = self.lstm(input.view(len(input), 1, -1))\n",
    "        out = self.do(lstm_out)\n",
    "        predictions = self.linear(out.view(len(input), -1))\n",
    "        return predictions[-1]\n"
   ]
  },
  {
   "cell_type": "markdown",
   "metadata": {},
   "source": [
    "## main"
   ]
  },
  {
   "cell_type": "code",
   "execution_count": 159,
   "metadata": {},
   "outputs": [],
   "source": [
    "time_steps = 100\n",
    "num_classes = 15"
   ]
  },
  {
   "cell_type": "code",
   "execution_count": 160,
   "metadata": {},
   "outputs": [
    {
     "name": "stdout",
     "output_type": "stream",
     "text": [
      "tensor(191.2746, device='cuda:0', grad_fn=<MseLossBackward>)\n",
      "tensor(61.3971, device='cuda:0', grad_fn=<MseLossBackward>)\n",
      "tensor(59.1782, device='cuda:0', grad_fn=<MseLossBackward>)\n",
      "tensor(56.9319, device='cuda:0', grad_fn=<MseLossBackward>)\n",
      "tensor(72.8357, device='cuda:0', grad_fn=<MseLossBackward>)\n",
      "tensor(53.1427, device='cuda:0', grad_fn=<MseLossBackward>)\n",
      "tensor(55.4849, device='cuda:0', grad_fn=<MseLossBackward>)\n",
      "tensor(54.2258, device='cuda:0', grad_fn=<MseLossBackward>)\n",
      "tensor(55.8322, device='cuda:0', grad_fn=<MseLossBackward>)\n",
      "tensor(51.6202, device='cuda:0', grad_fn=<MseLossBackward>)\n"
     ]
    }
   ],
   "source": [
    "#model definitions\n",
    "model = Baseline(time_steps, 12, num_classes)\n",
    "model.to(DEVICE)\n",
    "loss_function = nn.MSELoss()\n",
    "optimizer = torch.optim.Adam(model.parameters(), lr=0.001)\n",
    "\n",
    "epochs = 10\n",
    "\n",
    "for i in range(epochs):\n",
    "    for x, y in train_dataset:\n",
    "        optimizer.zero_grad()\n",
    "        y_pred = model(x)\n",
    "        single_loss = loss_function(y_pred, y)\n",
    "        single_loss.backward()\n",
    "        optimizer.step()\n",
    "    print(single_loss)"
   ]
  },
  {
   "cell_type": "code",
   "execution_count": 182,
   "metadata": {},
   "outputs": [
    {
     "data": {
      "text/plain": [
       "tensor([ 6.4623e+01,  3.4164e+01,  4.5388e+01,  1.9326e-01,  4.7245e-02,\n",
       "         8.0082e-02,  1.0565e-01,  2.0081e-02,  1.3719e-01,  7.8275e-03,\n",
       "         1.5141e-01,  1.1283e-01, -4.6992e-02,  1.6119e-01,  1.1325e-02],\n",
       "       device='cuda:0', grad_fn=<SelectBackward>)"
      ]
     },
     "execution_count": 182,
     "metadata": {},
     "output_type": "execute_result"
    }
   ],
   "source": [
    "pred = model(train_dataset[0][0])\n",
    "pred"
   ]
  }
 ],
 "metadata": {
  "kernelspec": {
   "display_name": "Python 3",
   "language": "python",
   "name": "python3"
  },
  "language_info": {
   "codemirror_mode": {
    "name": "ipython",
    "version": 3
   },
   "file_extension": ".py",
   "mimetype": "text/x-python",
   "name": "python",
   "nbconvert_exporter": "python",
   "pygments_lexer": "ipython3",
   "version": "3.7.3"
  }
 },
 "nbformat": 4,
 "nbformat_minor": 4
}
